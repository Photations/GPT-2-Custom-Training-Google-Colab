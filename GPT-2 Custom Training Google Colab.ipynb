{
  "cells": [
    {
      "cell_type": "markdown",
      "source": [
        "Install Python3.7"
      ],
      "metadata": {
        "id": "sR8AzZigrnrd"
      }
    },
    {
      "cell_type": "code",
      "execution_count": null,
      "metadata": {
        "id": "-UEKMEt7vEl8"
      },
      "outputs": [],
      "source": [
        "!apt-get install python3.7"
      ]
    },
    {
      "cell_type": "markdown",
      "source": [
        "install virtualenv so we can make an eviroment that uses python3.7 instead of colab's default python 3.10"
      ],
      "metadata": {
        "id": "ZtyJmdGKrtVz"
      }
    },
    {
      "cell_type": "code",
      "execution_count": null,
      "metadata": {
        "id": "ywFCoPipw3mN"
      },
      "outputs": [],
      "source": [
        "!pip3 install virtualenv"
      ]
    },
    {
      "cell_type": "markdown",
      "source": [
        "We Need to install nvidia's cuda libraries. We specificly need cuda tool kit 10.0"
      ],
      "metadata": {
        "id": "sCE69RjlsFvR"
      }
    },
    {
      "cell_type": "markdown",
      "source": [
        "Go To https://developer.nvidia.com/cuda-toolkit and create an Nvidia account it's free. You'll have to go into cuda archives and you'll need the account later to install cudnn which is a seperate install process   "
      ],
      "metadata": {
        "id": "T1JypmS1sezM"
      }
    },
    {
      "cell_type": "markdown",
      "source": [
        "This downloads the local cuda 10.0 deb file"
      ],
      "metadata": {
        "id": "Ce-bPDoKs1BU"
      }
    },
    {
      "cell_type": "code",
      "source": [
        "!wget https://developer.nvidia.com/compute/cuda/10.0/Prod/local_installers/cuda-repo-ubuntu1804-10-0-local-10.0.130-410.48_1.0-1_amd64 -O cuda-repo-ubuntu1804-10-0-local-10.0.130-410.48_1.0-1_amd64.deb"
      ],
      "metadata": {
        "id": "Cw7ydwiM-61J"
      },
      "execution_count": null,
      "outputs": []
    },
    {
      "cell_type": "markdown",
      "source": [
        "Install the cuda 10 deb package"
      ],
      "metadata": {
        "id": "hAvnkXkns_IT"
      }
    },
    {
      "cell_type": "code",
      "source": [
        "!dpkg -i cuda-repo-ubuntu1804-10-0-local-10.0.130-410.48_1.0-1_amd64.deb"
      ],
      "metadata": {
        "id": "GV_sp8RV_XOk"
      },
      "execution_count": null,
      "outputs": []
    },
    {
      "cell_type": "markdown",
      "source": [
        "This will through a apt-key deprecated waring, it still works though"
      ],
      "metadata": {
        "id": "0awFlpUUtNRB"
      }
    },
    {
      "cell_type": "code",
      "source": [
        "!apt-key add /var/cuda-repo-10-0-local-10.0.130-410.48/7fa2af80.pub"
      ],
      "metadata": {
        "id": "yPsELaMJAsCU"
      },
      "execution_count": null,
      "outputs": []
    },
    {
      "cell_type": "code",
      "source": [
        "!apt-get update"
      ],
      "metadata": {
        "id": "T_JhYlf7_4R1"
      },
      "execution_count": null,
      "outputs": []
    },
    {
      "cell_type": "markdown",
      "source": [
        "Most instructions will say to apt install cuda. But you need to specify cuda-10-0 or else the newest cuda toolkit would be installed"
      ],
      "metadata": {
        "id": "hSigIGZitV1U"
      }
    },
    {
      "cell_type": "code",
      "source": [
        "!apt-get install cuda-10-0"
      ],
      "metadata": {
        "id": "ikx9j5ox_9p0"
      },
      "execution_count": null,
      "outputs": []
    },
    {
      "cell_type": "markdown",
      "source": [
        "Now we'll create a enviroment called book that will use python3.7"
      ],
      "metadata": {
        "id": "NQdM4CLktxGx"
      }
    },
    {
      "cell_type": "code",
      "execution_count": null,
      "metadata": {
        "id": "daxSxy2evMgp"
      },
      "outputs": [],
      "source": [
        "!virtualenv book --python=python3.7"
      ]
    },
    {
      "cell_type": "markdown",
      "source": [
        "from now on all python calls need to start with\n",
        "\n",
        "> \"!source /content/book/bin/activate;\"\n",
        "to force colab to use python 3.7\n"
      ],
      "metadata": {
        "id": "9W8Tb7Q7uIcR"
      }
    },
    {
      "cell_type": "markdown",
      "source": [
        "Just a test to see python3.7 is installed and working. stop code after \">>>\" shows up"
      ],
      "metadata": {
        "id": "MISYlwsAu5ev"
      }
    },
    {
      "cell_type": "code",
      "execution_count": null,
      "metadata": {
        "id": "LnniTtZovS6_"
      },
      "outputs": [],
      "source": [
        "!source /content/book/bin/activate; python"
      ]
    },
    {
      "cell_type": "markdown",
      "source": [
        "Make sure google drive is conected to the runtime. We'll be working in the \"Learning\" folder you can name the folder whatever you want but just remember the path because we'll have to CD into it."
      ],
      "metadata": {
        "id": "M_lRBxoGvQeG"
      }
    },
    {
      "cell_type": "code",
      "execution_count": null,
      "metadata": {
        "id": "bYh8SGRpwmGY"
      },
      "outputs": [],
      "source": [
        "cd \"/content/drive/MyDrive/Learning\""
      ]
    },
    {
      "cell_type": "markdown",
      "source": [],
      "metadata": {
        "id": "lw7bhjIevpQj"
      }
    },
    {
      "cell_type": "markdown",
      "source": [
        "We're going to git clone nshepperd's gpt-2"
      ],
      "metadata": {
        "id": "yyyozjZAvxQE"
      }
    },
    {
      "cell_type": "code",
      "execution_count": null,
      "metadata": {
        "id": "RBeN0sVJyILW"
      },
      "outputs": [],
      "source": [
        "!git clone https://github.com/nshepperd/gpt-2"
      ]
    },
    {
      "cell_type": "markdown",
      "source": [
        "cd into the cloned gpt-2 folder"
      ],
      "metadata": {
        "id": "kTQVIy0Yv5ch"
      }
    },
    {
      "cell_type": "code",
      "execution_count": null,
      "metadata": {
        "id": "dR8RggA4yJ2F"
      },
      "outputs": [],
      "source": [
        "cd \"gpt-2\""
      ]
    },
    {
      "cell_type": "markdown",
      "source": [
        "Now we need the cudnn file. We specificly need \"libcudnn7_7.6.5.32-1+cuda10.0\" go to https://developer.nvidia.com/rdp/cudnn-archive this is where you need your nvidia developer account. Scroll down to \"Download cuDNN v7.6.5 (November 5th, 2019), for CUDA 10.0\" and download \"cuDNN Runtime Library for Ubuntu18.04 (Deb)\"\n"
      ],
      "metadata": {
        "id": "iIudiSCLv-Dp"
      }
    },
    {
      "cell_type": "markdown",
      "source": [
        "Now go into google drive and upload the \"cuDNN Runtime Library for Ubuntu18.04 (Deb)\" it would be called \"libcudnn7_7.6.5.32-1+cuda10.0_amd64.deb\" put it into the  gpt-2 folder our path is \"MyDrive/Learning/gpt-2\""
      ],
      "metadata": {
        "id": "Ttj0yDgAxDQY"
      }
    },
    {
      "cell_type": "markdown",
      "source": [
        "Now install the cudnn packages. again it has to be cudnn7"
      ],
      "metadata": {
        "id": "z5NItyJZxm-F"
      }
    },
    {
      "cell_type": "code",
      "source": [
        "!dpkg -i libcudnn7_7.6.5.32-1+cuda10.0_amd64.deb"
      ],
      "metadata": {
        "id": "AcO1COhoHfA9"
      },
      "execution_count": null,
      "outputs": []
    },
    {
      "cell_type": "markdown",
      "source": [
        "Now we'll have to get pip working. It will not work in the enviroment by default"
      ],
      "metadata": {
        "id": "eju4-mVfxz4f"
      }
    },
    {
      "cell_type": "code",
      "execution_count": null,
      "metadata": {
        "id": "pm2-iGu-2W-V"
      },
      "outputs": [],
      "source": [
        "!source /content/book/bin/activate; sudo apt install python3.7-distutils"
      ]
    },
    {
      "cell_type": "markdown",
      "source": [
        "install tensorflow for the gpu. We specifily need 1.14.0"
      ],
      "metadata": {
        "id": "-CXGuq3ax8Hh"
      }
    },
    {
      "cell_type": "code",
      "execution_count": null,
      "metadata": {
        "id": "fRqRv-73ysHf"
      },
      "outputs": [],
      "source": [
        "!source /content/book/bin/activate; pip install tensorflow-gpu==1.14.0"
      ]
    },
    {
      "cell_type": "markdown",
      "source": [
        "Do not use the pip install -r requiremnts.txt instead just use the comand below"
      ],
      "metadata": {
        "id": "cW71b_s7yD7F"
      }
    },
    {
      "cell_type": "code",
      "execution_count": null,
      "metadata": {
        "id": "u2WCWWf33m0O"
      },
      "outputs": [],
      "source": [
        "!source /content/book/bin/activate; pip install regex fire requests tqdm toposort"
      ]
    },
    {
      "cell_type": "markdown",
      "source": [
        "now we have to downgrade protobuf. the highest version that works is 3.20 nothing after that will work"
      ],
      "metadata": {
        "id": "LyxMbuIeyNnO"
      }
    },
    {
      "cell_type": "code",
      "execution_count": null,
      "metadata": {
        "id": "Hj-Y6YB85Ci-"
      },
      "outputs": [],
      "source": [
        "!source /content/book/bin/activate; pip install  protobuf==3.20.2"
      ]
    },
    {
      "cell_type": "markdown",
      "source": [
        "Now we need to download the GPT-2 model we'll be using the 124M model size"
      ],
      "metadata": {
        "id": "6RtYF_GdyZzL"
      }
    },
    {
      "cell_type": "code",
      "execution_count": null,
      "metadata": {
        "id": "fH7w2Wr_y0vd"
      },
      "outputs": [],
      "source": [
        "!source /content/book/bin/activate; python download_model.py 124M"
      ]
    },
    {
      "cell_type": "markdown",
      "source": [
        "In google drive navigate to the gpt-2 folder. Take encode.py and train.py and move it into the src folder"
      ],
      "metadata": {
        "id": "gTSXA3w5yjws"
      }
    },
    {
      "cell_type": "markdown",
      "source": [
        "open the encode.py file. find line \"parser.add_argument('--model_name', metavar='MODEL', type=str, default='117M', help='Pretrained model name')\"\n",
        "change default='117M' to default='124M'"
      ],
      "metadata": {
        "id": "LqHaSImIy0W1"
      }
    },
    {
      "cell_type": "markdown",
      "source": [
        "Open the train.py file look for the line \"parser.add_argument('--model_name', metavar='MODEL', type=str, default='124M', help='Pretrained model name')\"\n",
        "\n",
        "make sure the \"default='124M'\" is 124M if it's 117M change it to 124M"
      ],
      "metadata": {
        "id": "V3YX2MsYzKni"
      }
    },
    {
      "cell_type": "markdown",
      "source": [
        "Smaller datasets work better then larger data sets. we'll be taking chapter 2 from \"Religion and Science from Galileo to Bergson\" https://www.gutenberg.org/ebooks/35772\n",
        "\n",
        "download the text file and just copy the contents of chapter 2 into a new text file. We called this text file \"02_Galileo_THE_DISSOLUTION_OF_THE_OLD_SYNTHESIS.txt\"\n",
        "\n",
        "Make sure this textfile is in the GPT-2 folder"
      ],
      "metadata": {
        "id": "bo9MoMDHzhvt"
      }
    },
    {
      "cell_type": "markdown",
      "source": [
        "Now we'll be converting the text file to a npz file. the npz file is what we'll use to train our model"
      ],
      "metadata": {
        "id": "cjmvhu-D0QMH"
      }
    },
    {
      "cell_type": "code",
      "execution_count": null,
      "metadata": {
        "id": "tqKF9MC5zqEE"
      },
      "outputs": [],
      "source": [
        "!source /content/book/bin/activate; python src/encode.py 02_Galileo_THE_DISSOLUTION_OF_THE_OLD_SYNTHESIS.txt 02_Galileo_THE_DISSOLUTION_OF_THE_OLD_SYNTHESIS.npz"
      ]
    },
    {
      "cell_type": "markdown",
      "source": [
        "The code above should end with \"100% 1/1 [00:00<00:00,  5.79it/s]\"\n",
        "Writing 02_Galileo_THE_DISSOLUTION_OF_THE_OLD_SYNTHESIS.npz\n",
        "if it doesn't say 100% something wrong happened"
      ],
      "metadata": {
        "id": "5svPN1CD0eeS"
      }
    },
    {
      "cell_type": "markdown",
      "source": [
        "Now we train"
      ],
      "metadata": {
        "id": "XePeS0Kn0b3T"
      }
    },
    {
      "cell_type": "code",
      "execution_count": null,
      "metadata": {
        "id": "urdj74xRz5_B"
      },
      "outputs": [],
      "source": [
        "!source /content/book/bin/activate; python src/train.py --dataset 02_Galileo_THE_DISSOLUTION_OF_THE_OLD_SYNTHESIS.npz"
      ]
    },
    {
      "cell_type": "markdown",
      "source": [
        "This will run untill you stop it. the more steps that are processed the better the model will be in gerneral. The larger the text file you give it the more steps you'll need to train vs a small text file."
      ],
      "metadata": {
        "id": "spTsGEjA1BIQ"
      }
    },
    {
      "cell_type": "markdown",
      "source": [
        "To run the model locally check out these YouTube Videos. This is where I learned how to train custom GPT-2 models\n",
        "https://youtu.be/UH3mCaB7Quc\n",
        "\n",
        "https://youtu.be/Ge_3_pyW_LU\n"
      ],
      "metadata": {
        "id": "utOuQlYI1YCb"
      }
    }
  ],
  "metadata": {
    "accelerator": "GPU",
    "colab": {
      "provenance": [],
      "gpuType": "T4"
    },
    "kernelspec": {
      "display_name": "Python 3",
      "name": "python3"
    },
    "language_info": {
      "name": "python"
    }
  },
  "nbformat": 4,
  "nbformat_minor": 0
}